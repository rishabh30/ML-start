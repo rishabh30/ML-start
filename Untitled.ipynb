{
 "cells": [
  {
   "cell_type": "code",
   "execution_count": 6,
   "metadata": {
    "collapsed": false
   },
   "outputs": [
    {
     "name": "stdout",
     "output_type": "stream",
     "text": [
      "[6, 8, 9, 10, 14, 16, 24, 24, 24, 24, 25, 26, 26, 28, 28, 30, 30, 35, 35, 38, 38, 38, 39, 41, 41, 42, 45, 45, 46, 47, 48, 48, 48, 49, 52, 52, 55, 56, 56, 62, 64, 68, 68, 70, 70, 72, 75, 77, 78, 79, 80, 81, 82, 85, 85, 86, 88, 92, 94, 98, 100, 101, 102, 107, 124, 146, 148, 157, 170, 188, 217]\n"
     ]
    }
   ],
   "source": [
    "\n",
    "import numpy as numpy\n",
    "import pandas as pd\n",
    "\n",
    "\n",
    "input_file = \"QUES.csv\"\n",
    "df = pd.read_csv(input_file, header=0)\n",
    "original_headers = list(df.columns.values)\n",
    "df = df._get_numeric_data()\n",
    "numeric_headers = list(df.columns.values)\n",
    "numpy_array = df.as_matrix()\n",
    "\n",
    "\n",
    "X = numpy_array[:,0:10]\n",
    "Y = numpy_array[:,10]\n",
    "x1 = [x for (y,x) in sorted(zip(Y,X), key=lambda pair: pair[0])]\n",
    "y1 = [y for (y,x) in sorted(zip(Y,X), key=lambda pair: pair[0])]\n",
    "print y1\n"
   ]
  },
  {
   "cell_type": "code",
   "execution_count": null,
   "metadata": {
    "collapsed": true
   },
   "outputs": [],
   "source": []
  }
 ],
 "metadata": {
  "anaconda-cloud": {},
  "kernelspec": {
   "display_name": "Python [conda root]",
   "language": "python",
   "name": "conda-root-py"
  },
  "language_info": {
   "codemirror_mode": {
    "name": "ipython",
    "version": 2
   },
   "file_extension": ".py",
   "mimetype": "text/x-python",
   "name": "python",
   "nbconvert_exporter": "python",
   "pygments_lexer": "ipython2",
   "version": "2.7.12"
  }
 },
 "nbformat": 4,
 "nbformat_minor": 1
}
