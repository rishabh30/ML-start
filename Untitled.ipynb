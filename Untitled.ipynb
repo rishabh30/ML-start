{
 "cells": [
  {
   "cell_type": "code",
   "execution_count": 31,
   "metadata": {
    "collapsed": false
   },
   "outputs": [
    {
     "name": "stdout",
     "output_type": "stream",
     "text": [
      "[  6   8   9  10  14  16  24  24  24  24  25  26  26  28  28  30  30  35\n",
      "  35  38  38  38  39  41  41  42  45  45  46  47  48  48  48  49  52  52\n",
      "  55  56  56  62  64  68  68  70  70  72  75  77  78  79  80  81  82  85\n",
      "  85  86  88  92  94  98 100 101 102 107 124 146 148 157 170 188 217] [102  85  38  81  55 101  38 157  68  26  24  86  26  47  78  88 124  28\n",
      "  62  35  41  49   9  70  46  42  92  48  56 217  45  24  85  10 100  72\n",
      "  48  24  16  14  82  39  98  56 146  25  68  48 170  80 148  30  28  35\n",
      "  77  45  52  70 188  79  30  75  64 107   8   6  24  52  38  41  94]\n"
     ]
    }
   ],
   "source": [
    "import numpy as numpy\n",
    "import pandas as pd\n",
    "import numpy\n",
    "import pandas\n",
    "from keras.models import Sequential\n",
    "from keras.layers import Dense\n",
    "from keras.wrappers.scikit_learn import KerasRegressor\n",
    "from sklearn.model_selection import cross_val_score\n",
    "from sklearn.model_selection import KFold\n",
    "from sklearn.preprocessing import StandardScaler\n",
    "from sklearn.pipeline import Pipeline\n",
    "\n",
    "from keras.wrappers.scikit_learn import BaseWrapper\n",
    "import copy\n",
    "\n",
    "def custom_get_params(self, **params):\n",
    "    res = copy.deepcopy(self.sk_params)\n",
    "    res.update({'build_fn': self.build_fn})\n",
    "    return res\n",
    "\n",
    "BaseWrapper.get_params = custom_get_params\n",
    "\n",
    "def baseline_model():\n",
    "\tmodel = Sequential()\n",
    "\tmodel.add(Dense(3, input_dim=10, init='normal'))\n",
    "\tmodel.add(Dense(71, init='normal', activation='sigmoid'))\n",
    "\tmodel.add(Dense(1, init='normal'))\n",
    "\tmodel.compile(loss='mean_squared_error', optimizer='adam')\n",
    "\treturn model\n",
    "\n",
    "\n",
    "\n",
    "input_file = \"QUES.csv\"\n",
    "input_file2 =\"UIMS1.csv\"\n",
    "\n",
    "df = pd.read_csv(input_file, header=0)\n",
    "df2 = pd.read_csv(input_file2, header=0)\n",
    "\n",
    "original_headers = list(df.columns.values)\n",
    "original_headers2 = list(df2.columns.values)\n",
    "\n",
    "df = df._get_numeric_data()\n",
    "df2 = df2._get_numeric_data()\n",
    "\n",
    "numeric_headers = list(df.columns.values)\n",
    "numeric_headers2 = list(df.columns.values)\n",
    "\n",
    "numpy_array = df.as_matrix()\n",
    "numpy_array2 = df2.as_matrix()\n",
    "\n",
    "\n",
    "X = numpy_array[:,0:10]\n",
    "Y = numpy_array[:,10]\n",
    "\n",
    "training_features = [x for (y,x) in sorted(zip(Y,X), key=lambda pair: pair[0])]\n",
    "training_features = numpy.vstack(training_features)\n",
    "training_labels = [y for (y,x) in sorted(zip(Y,X), key=lambda pair: pair[0])]\n",
    "training_labels = numpy.array(training_labels)\n",
    "print training_labels , Y"
   ]
  },
  {
   "cell_type": "code",
   "execution_count": null,
   "metadata": {
    "collapsed": true
   },
   "outputs": [],
   "source": []
  }
 ],
 "metadata": {
  "anaconda-cloud": {},
  "kernelspec": {
   "display_name": "Python [conda root]",
   "language": "python",
   "name": "conda-root-py"
  },
  "language_info": {
   "codemirror_mode": {
    "name": "ipython",
    "version": 2
   },
   "file_extension": ".py",
   "mimetype": "text/x-python",
   "name": "python",
   "nbconvert_exporter": "python",
   "pygments_lexer": "ipython2",
   "version": "2.7.12"
  }
 },
 "nbformat": 4,
 "nbformat_minor": 1
}
